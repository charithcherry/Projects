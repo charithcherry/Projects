{
 "cells": [
  {
   "cell_type": "code",
   "execution_count": 1,
   "id": "26613c0e",
   "metadata": {},
   "outputs": [],
   "source": [
    "import cv2\n",
    "import mediapipe as mp\n",
    "mp_drawing = mp.solutions.drawing_utils\n",
    "mp_hands = mp.solutions.hands\n",
    "import numpy as np\n",
    "import math\n",
    "from typing import List, Optional, Tuple, Union\n",
    "import os"
   ]
  },
  {
   "cell_type": "code",
   "execution_count": 41,
   "id": "724b7b0c",
   "metadata": {},
   "outputs": [],
   "source": [
    "cap = cv2.VideoCapture(0)\n",
    "with mp_hands.Hands(\n",
    "    min_detection_confidence=0.5,\n",
    "    min_tracking_confidence=0.5) as hands:\n",
    "  while cap.isOpened():\n",
    "    success, image = cap.read()\n",
    "    if not success:\n",
    "      print(\"Ignoring empty camera frame.\")\n",
    "      # If loading a video, use 'break' instead of 'continue'.\n",
    "      continue\n",
    "    # Flip the image horizontally for a later selfie-view display, and convert\n",
    "    # the BGR image to RGB.\n",
    "    image = cv2.cvtColor(cv2.flip(image, 1), cv2.COLOR_BGR2RGB)\n",
    "    # To improve performance, optionally mark the image as not writeable to\n",
    "    # pass by reference.\n",
    "    image.flags.writeable = False\n",
    "    results = hands.process(image)\n",
    "    \n",
    "    # Draw the hand annotations on the image.\n",
    "    image.flags.writeable = True\n",
    "    image = cv2.cvtColor(image, cv2.COLOR_RGB2BGR)\n",
    "    if results.multi_hand_landmarks:\n",
    "      for num,hand in enumerate(results.multi_hand_landmarks):\n",
    "        mp_drawing.draw_landmarks(\n",
    "            image, hand, mp_hands.HAND_CONNECTIONS)\n",
    "        if get_label(num,hand,results):\n",
    "            text,coord=get_label(num,hand,results)\n",
    "            cv2.putText(image,text,coord,cv2.FONT_HERSHEY_COMPLEX,1,(0,255,0),2,cv2.LINE_AA)\n",
    "            \n",
    "            \n",
    "            \n",
    "    #hsv = cv2.cvtColor(image, cv2.COLOR_BGR2HSV)  \n",
    "    mask = cv2.inRange(image, (0, 255, 0), (0, 256,0))\n",
    "    imask = mask>0\n",
    "    green = np.zeros_like(image, np.uint8)\n",
    "    green[imask] = image[imask]\n",
    "    green[0:125,0:640]=header    \n",
    "    cv2.imshow('MediaPipe Hands', green)\n",
    "    key = cv2.waitKey(1)\n",
    "    if key == 27:\n",
    "        break\n",
    "\n",
    "cap.release()\n",
    "cv2.destroyAllWindows()\n"
   ]
  },
  {
   "cell_type": "code",
   "execution_count": 2,
   "id": "b25e8532",
   "metadata": {},
   "outputs": [],
   "source": [
    "def get_label(index,hand,results):\n",
    "    output=None\n",
    "    for idx,classification in enumerate(results.multi_handedness):\n",
    "        if classification.classification[0].index==index:\n",
    "            label=classification.classification[0].label\n",
    "            score=classification.classification[0].score\n",
    "            text=\"{} {}\".format(label,round(score,2))\n",
    "            \n",
    "            coords=tuple(np.multiply(\n",
    "                np.array((hand.landmark[mp_hands.HandLandmark.WRIST].x,hand.landmark[mp_hands.HandLandmark.WRIST].y)),\n",
    "                                    [640,480]).astype(int))\n",
    "            output=text,coords\n",
    "    return output\n",
    "            "
   ]
  },
  {
   "cell_type": "code",
   "execution_count": null,
   "id": "dd16b138",
   "metadata": {},
   "outputs": [],
   "source": []
  },
  {
   "cell_type": "code",
   "execution_count": 2,
   "id": "dbfe5a0f",
   "metadata": {},
   "outputs": [],
   "source": [
    "overlay=[]\n",
    "imglist=os.listdir('./resize/')"
   ]
  },
  {
   "cell_type": "code",
   "execution_count": 3,
   "id": "2e51cb7c",
   "metadata": {},
   "outputs": [
    {
     "data": {
      "text/plain": [
       "['1.jpg', '2.jpg', '3.jpg', '4.jpg', '5.jpg']"
      ]
     },
     "execution_count": 3,
     "metadata": {},
     "output_type": "execute_result"
    }
   ],
   "source": [
    "imglist"
   ]
  },
  {
   "cell_type": "code",
   "execution_count": 4,
   "id": "5451b8ef",
   "metadata": {},
   "outputs": [],
   "source": [
    "for im in imglist:\n",
    "    image=cv2.imread('./resize/'+im)\n",
    "    overlay.append(image)\n"
   ]
  },
  {
   "cell_type": "code",
   "execution_count": null,
   "id": "cb0e27f6",
   "metadata": {},
   "outputs": [],
   "source": []
  },
  {
   "cell_type": "code",
   "execution_count": 5,
   "id": "92dbec96",
   "metadata": {},
   "outputs": [],
   "source": [
    "header=overlay[4]\n"
   ]
  },
  {
   "cell_type": "code",
   "execution_count": 13,
   "id": "eb679106",
   "metadata": {},
   "outputs": [],
   "source": [
    "color=(255,0,255)\n",
    "xp,yp=0,0"
   ]
  },
  {
   "cell_type": "code",
   "execution_count": 6,
   "id": "4d9adb7b",
   "metadata": {},
   "outputs": [],
   "source": [
    "# cap.set(3,1280)\n",
    "# cap.set(4,720)"
   ]
  },
  {
   "cell_type": "code",
   "execution_count": 7,
   "id": "0ca4c681",
   "metadata": {},
   "outputs": [],
   "source": [
    "def get_position(t1,t2,d1,d2):\n",
    "    if t1<d1 and t2<d2:\n",
    "        return [1,1]\n",
    "    elif t1>d1 and t2<d2:\n",
    "        return [0,1]\n",
    "    elif t1<d1 and t2>d2:\n",
    "        return [1,0]\n",
    "    else:\n",
    "        return [0,0]"
   ]
  },
  {
   "cell_type": "code",
   "execution_count": 24,
   "id": "7330ec01",
   "metadata": {},
   "outputs": [],
   "source": [
    "coords=tuple()\n",
    "imgcanvas=np.zeros((480,640,3),np.uint8)\n",
    "cap = cv2.VideoCapture(0)\n",
    "with mp_hands.Hands(\n",
    "    min_detection_confidence=0.5,\n",
    "    min_tracking_confidence=0.5) as hands:\n",
    "  while cap.isOpened():\n",
    "    success, image = cap.read()\n",
    "    image=cv2.flip(image,1)\n",
    "    if not success:\n",
    "      print(\"Ignoring empty camera frame.\")\n",
    "      # If loading a video, use 'break' instead of 'continue'.\n",
    "      continue\n",
    "    # Flip the image horizontally for a later selfie-view display, and convert\n",
    "    # the BGR image to RGB.\n",
    "    image = cv2.cvtColor(cv2.flip(image, 1), cv2.COLOR_BGR2RGB)\n",
    "    # To improve performance, optionally mark the image as not writeable to\n",
    "    # pass by reference.\n",
    "    image.flags.writeable = False\n",
    "    results = hands.process(image)\n",
    "    \n",
    "    # Draw the hand annotations on the image.\n",
    "    image.flags.writeable = True\n",
    "    image = cv2.cvtColor(image, cv2.COLOR_RGB2BGR)\n",
    "    if results.multi_hand_landmarks:\n",
    "      for num,hand in enumerate(results.multi_hand_landmarks):\n",
    "        mp_drawing.draw_landmarks(\n",
    "            image, hand, mp_hands.HAND_CONNECTIONS)\n",
    "        \n",
    "        indexf_coords=tuple(np.multiply(\n",
    "                np.array((hand.landmark[mp_hands.HandLandmark.INDEX_FINGER_TIP].x,hand.landmark[mp_hands.HandLandmark.INDEX_FINGER_TIP].y)),\n",
    "                                  [640,480]).astype(int)) \n",
    "        middlef_coords=tuple(np.multiply(\n",
    "                np.array((hand.landmark[mp_hands.HandLandmark.MIDDLE_FINGER_TIP].x,hand.landmark[mp_hands.HandLandmark.MIDDLE_FINGER_TIP].y)),\n",
    "                                  [640,480]).astype(int))\n",
    "        indexdf_coords=tuple(np.multiply(\n",
    "                np.array((hand.landmark[mp_hands.HandLandmark.INDEX_FINGER_DIP].x,hand.landmark[mp_hands.HandLandmark.INDEX_FINGER_DIP].y)),\n",
    "                                  [640,480]).astype(int)) \n",
    "        middledf_coords=tuple(np.multiply(\n",
    "                np.array((hand.landmark[mp_hands.HandLandmark.MIDDLE_FINGER_DIP].x,hand.landmark[mp_hands.HandLandmark.MIDDLE_FINGER_DIP].y)),\n",
    "                                  [640,480]).astype(int))\n",
    "        finger=get_position(round(indexf_coords[1]),round(middlef_coords[1]),round(indexdf_coords[1]),round(middledf_coords[1]))\n",
    "        \n",
    "        if finger[0] and finger[1]==False:\n",
    "            cv2.circle(image,(indexf_coords[0],indexf_coords[1]),15,color,cv2.FILLED)\n",
    "            if xp==0 and yp==0:\n",
    "                xp,yp=indexf_coords[0],indexf_coords[1]\n",
    "                \n",
    "            \n",
    "            xp,yp=indexf_coords[0],indexf_coords[1]\n",
    "            if color==(0,0,0):\n",
    "                cv2.line(image,(xp,yp),(indexf_coords[0],indexf_coords[1]),color,50)\n",
    "                cv2.line(imgcanvas,(xp,yp),(indexf_coords[0],indexf_coords[1]),color,50)\n",
    "\n",
    "            else: \n",
    "                cv2.line(image,(xp,yp),(indexf_coords[0],indexf_coords[1]),color,15)\n",
    "                cv2.line(imgcanvas,(xp,yp),(indexf_coords[0],indexf_coords[1]),color,15)\n",
    "\n",
    "                \n",
    "            \n",
    "        if finger[0] and finger[1]:\n",
    "            xp,yp=0,0\n",
    "            if indexf_coords[1]<125:\n",
    "#                 print(indexf_coords[0])\n",
    "                if 0<indexf_coords[0]<130:\n",
    "                    header=overlay[0]\n",
    "                    color=(255,0,0)\n",
    "                elif 130<indexf_coords[0]<274:\n",
    "                    header=overlay[1]\n",
    "                    color=(0,0,255)\n",
    "                elif 274<indexf_coords[0]<360:\n",
    "                    header=overlay[2]\n",
    "                    color=(255,0,255)\n",
    "                elif 360<indexf_coords[0]<512:\n",
    "                    header=overlay[3]\n",
    "                    color=(0,255,0)\n",
    "                elif 512<indexf_coords[0]<640:\n",
    "                    header=overlay[4]\n",
    "                    color=(0,0,0)\n",
    "            cv2.rectangle(image,(indexf_coords[0],indexf_coords[1]-15),(middlef_coords[0],middlef_coords[1]+15),color,cv2.FILLED)\n",
    "                    \n",
    "                \n",
    "    imggray=cv2.cvtColor(imgcanvas,cv2.COLOR_BGR2GRAY)\n",
    "    _,imgInv=cv2.threshold(imggray,50,255,cv2.THRESH_BINARY_INV)\n",
    "    imgInv=cv2.cvtColor(imgInv,cv2.COLOR_GRAY2BGR)\n",
    "    image=cv2.bitwise_and(image,imgInv)\n",
    "    image=cv2.bitwise_or(image,imgcanvas)\n",
    "    image[0:125,0:640]=header  \n",
    "    #image=cv2.addWeighted(image,0.5,imgcanvas,0.5,0)\n",
    "    cv2.imshow('MediaPipe Hands', image)\n",
    "    key = cv2.waitKey(1)\n",
    "    if key == 27:\n",
    "        break\n",
    "\n",
    "cap.release()\n",
    "cv2.destroyAllWindows()\n"
   ]
  },
  {
   "cell_type": "code",
   "execution_count": null,
   "id": "f711c6dc",
   "metadata": {},
   "outputs": [],
   "source": []
  }
 ],
 "metadata": {
  "kernelspec": {
   "display_name": "Python 3",
   "language": "python",
   "name": "python3"
  },
  "language_info": {
   "codemirror_mode": {
    "name": "ipython",
    "version": 3
   },
   "file_extension": ".py",
   "mimetype": "text/x-python",
   "name": "python",
   "nbconvert_exporter": "python",
   "pygments_lexer": "ipython3",
   "version": "3.9.5"
  }
 },
 "nbformat": 4,
 "nbformat_minor": 5
}
