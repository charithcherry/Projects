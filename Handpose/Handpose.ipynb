{
 "cells": [
  {
   "cell_type": "code",
   "execution_count": 2,
   "id": "26613c0e",
   "metadata": {},
   "outputs": [],
   "source": [
    "import cv2\n",
    "import mediapipe as mp\n",
    "mp_drawing = mp.solutions.drawing_utils\n",
    "mp_hands = mp.solutions.hands\n",
    "import numpy as np\n",
    "import math\n",
    "from typing import List, Optional, Tuple, Union\n"
   ]
  },
  {
   "cell_type": "code",
   "execution_count": 3,
   "id": "724b7b0c",
   "metadata": {},
   "outputs": [],
   "source": [
    "cap = cv2.VideoCapture(0)\n",
    "with mp_hands.Hands(\n",
    "    min_detection_confidence=0.5,\n",
    "    min_tracking_confidence=0.5) as hands:\n",
    "  while cap.isOpened():\n",
    "    success, image = cap.read()\n",
    "    if not success:\n",
    "      print(\"Ignoring empty camera frame.\")\n",
    "      # If loading a video, use 'break' instead of 'continue'.\n",
    "      continue\n",
    "    # Flip the image horizontally for a later selfie-view display, and convert\n",
    "    # the BGR image to RGB.\n",
    "    image = cv2.cvtColor(cv2.flip(image, 1), cv2.COLOR_BGR2RGB)\n",
    "    # To improve performance, optionally mark the image as not writeable to\n",
    "    # pass by reference.\n",
    "    image.flags.writeable = False\n",
    "    results = hands.process(image)\n",
    "    \n",
    "    # Draw the hand annotations on the image.\n",
    "    image.flags.writeable = True\n",
    "    image = cv2.cvtColor(image, cv2.COLOR_RGB2BGR)\n",
    "    if results.multi_hand_landmarks:\n",
    "      for num,hand in enumerate(results.multi_hand_landmarks):\n",
    "        mp_drawing.draw_landmarks(\n",
    "            image, hand, mp_hands.HAND_CONNECTIONS)\n",
    "        if get_label(num,hand,results):\n",
    "            text,coord=get_label(num,hand,results)\n",
    "            cv2.putText(image,text,coord,cv2.FONT_HERSHEY_COMPLEX,1,(0,255,0),2,cv2.LINE_AA)\n",
    "            \n",
    "            \n",
    "            \n",
    "    #hsv = cv2.cvtColor(image, cv2.COLOR_BGR2HSV)  \n",
    "    mask = cv2.inRange(image, (0, 255, 0), (0, 256,0))\n",
    "    imask = mask>0\n",
    "    green = np.zeros_like(image, np.uint8)\n",
    "    green[imask] = image[imask]\n",
    "    \n",
    "    cv2.imshow('MediaPipe Hands', green)\n",
    "    key = cv2.waitKey(1)\n",
    "    if key == 27:\n",
    "        break\n",
    "\n",
    "cap.release()\n",
    "cv2.destroyAllWindows()\n"
   ]
  },
  {
   "cell_type": "code",
   "execution_count": 1,
   "id": "b25e8532",
   "metadata": {},
   "outputs": [],
   "source": [
    "def get_label(index,hand,results):\n",
    "    output=None\n",
    "    for idx,classification in enumerate(results.multi_handedness):\n",
    "        if classification.classification[0].index==index:\n",
    "            label=classification.classification[0].label\n",
    "            score=classification.classification[0].score\n",
    "            text=\"{} {}\".format(label,round(score,2))\n",
    "            \n",
    "            coords=tuple(np.multiply(\n",
    "                np.array((hand.landmark[mp_hands.HandLandmark.WRIST].x,hand.landmark[mp_hands.HandLandmark.WRIST].y)),\n",
    "                                    [640,480]).astype(int))\n",
    "            output=text,coords\n",
    "    return output\n",
    "            "
   ]
  },
  {
   "cell_type": "code",
   "execution_count": 5,
   "id": "dd16b138",
   "metadata": {},
   "outputs": [],
   "source": []
  },
  {
   "cell_type": "code",
   "execution_count": 6,
   "id": "dbfe5a0f",
   "metadata": {},
   "outputs": [],
   "source": []
  },
  {
   "cell_type": "code",
   "execution_count": null,
   "id": "2e51cb7c",
   "metadata": {},
   "outputs": [],
   "source": []
  }
 ],
 "metadata": {
  "kernelspec": {
   "display_name": "Python 3",
   "language": "python",
   "name": "python3"
  },
  "language_info": {
   "codemirror_mode": {
    "name": "ipython",
    "version": 3
   },
   "file_extension": ".py",
   "mimetype": "text/x-python",
   "name": "python",
   "nbconvert_exporter": "python",
   "pygments_lexer": "ipython3",
   "version": "3.9.5"
  }
 },
 "nbformat": 4,
 "nbformat_minor": 5
}
