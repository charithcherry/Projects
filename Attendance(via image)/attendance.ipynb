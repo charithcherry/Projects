{
 "cells": [
  {
   "cell_type": "code",
   "execution_count": 1,
   "id": "d0d275d6",
   "metadata": {},
   "outputs": [],
   "source": [
    "import numpy as np\n",
    "import cv2\n",
    "import face_recognition\n",
    "import os\n",
    "from datetime import datetime\n",
    "import matplotlib.pyplot as plt\n",
    "import glob"
   ]
  },
  {
   "cell_type": "markdown",
   "id": "83485ac2",
   "metadata": {},
   "source": [
    "# Face Extraction and Resizing"
   ]
  },
  {
   "cell_type": "code",
   "execution_count": 2,
   "id": "7f63bfdf",
   "metadata": {},
   "outputs": [],
   "source": [
    "face=cv2.CascadeClassifier('frontalface.xml')\n",
    "imglist=os.listdir('images')"
   ]
  },
  {
   "cell_type": "code",
   "execution_count": 3,
   "id": "05c1f5f6",
   "metadata": {},
   "outputs": [
    {
     "name": "stdout",
     "output_type": "stream",
     "text": [
      "chris.jpg\n",
      "hemsworth.jpg\n",
      "RDJ.jpg\n"
     ]
    }
   ],
   "source": [
    "for i in imglist:\n",
    "    print(i)\n",
    "    img=cv2.imread('images/'+i)\n",
    "    gray=cv2.cvtColor(img,cv2.COLOR_BGR2GRAY)\n",
    "    faces=face.detectMultiScale(gray,1.1,5)\n",
    "    for (x,y,w,h) in faces:\n",
    "        roi_color=img[y-50:y+h+50,x-50:x+w+50]\n",
    "    cv2.imwrite(\"Rimage/{}\".format(i),roi_color)\n",
    "    cv2.waitKey(0)\n",
    "cv2.destroyAllWindows()   "
   ]
  },
  {
   "cell_type": "code",
   "execution_count": 4,
   "id": "45b0b9b7",
   "metadata": {},
   "outputs": [
    {
     "name": "stdout",
     "output_type": "stream",
     "text": [
      "chris.jpg\n",
      "hemsworth.jpg\n",
      "RDJ.jpg\n"
     ]
    }
   ],
   "source": [
    "for i in imglist:\n",
    "    print(i)\n",
    "    img=cv2.imread('images/'+i)\n",
    "    Rimg=cv2.resize(img,(200,200))\n",
    "    cv2.imwrite(\"Rimage/{}\".format(i),Rimg)\n",
    "    cv2.waitKey(0)\n",
    "cv2.destroyAllWindows()"
   ]
  },
  {
   "cell_type": "markdown",
   "id": "65729839",
   "metadata": {},
   "source": [
    "# Live Image Capture"
   ]
  },
  {
   "cell_type": "code",
   "execution_count": 5,
   "id": "ba459965",
   "metadata": {},
   "outputs": [],
   "source": [
    "cap = cv2.VideoCapture(0)\n",
    "i=0\n",
    "while i<=1000:\n",
    "    if(i==1000):\n",
    "      success, img = cap.read()\n",
    "      img = cv2.resize(img,(350,350))\n",
    "      #img = cv2.cvtColor(img, cv2.COLOR_BGR2RGB)\n",
    "      cv2.imshow(\"webcam\",img)\n",
    "      key = cv2.waitKey(1)\n",
    "      if key == 27:\n",
    "        break\n",
    "    i=i+1\n",
    "cap.release()\n",
    "cv2.destroyAllWindows()\n",
    "\n"
   ]
  },
  {
   "cell_type": "code",
   "execution_count": 6,
   "id": "e7275efd",
   "metadata": {},
   "outputs": [],
   "source": [
    "gray=cv2.cvtColor(img,cv2.COLOR_BGR2GRAY)\n",
    "faces=face.detectMultiScale(gray,1.1,5)\n",
    "for (x,y,w,h) in faces:\n",
    "    roi_color=img[y-50:y+h+50,x-50:x+w+50]"
   ]
  },
  {
   "cell_type": "code",
   "execution_count": 7,
   "id": "173cc508",
   "metadata": {},
   "outputs": [],
   "source": [
    "cv2.imshow('img', roi_color)\n",
    "cv2.waitKey(0)\n",
    "cv2.destroyAllWindows()"
   ]
  },
  {
   "cell_type": "markdown",
   "id": "650ecab3",
   "metadata": {},
   "source": [
    "# Attendance"
   ]
  },
  {
   "cell_type": "code",
   "execution_count": 8,
   "id": "93108e81",
   "metadata": {},
   "outputs": [],
   "source": [
    "path = 'images'\n",
    "imagess = []\n",
    "names = []\n",
    "myImagesList = os.listdir(path)"
   ]
  },
  {
   "cell_type": "code",
   "execution_count": 9,
   "id": "bcbad7ae",
   "metadata": {},
   "outputs": [],
   "source": [
    "for cls in myImagesList:\n",
    "    crrImg= cv2.imread(f'{path}/{cls}')\n",
    "    imagess.append(crrImg)\n",
    "    names.append(os.path.splitext(cls)[0])"
   ]
  },
  {
   "cell_type": "code",
   "execution_count": 10,
   "id": "b249c904",
   "metadata": {},
   "outputs": [
    {
     "name": "stdout",
     "output_type": "stream",
     "text": [
      "encoding complete\n"
     ]
    }
   ],
   "source": [
    "def findencodings(imagess):\n",
    "    encodelst= []\n",
    "    for img in imagess:\n",
    "        img = cv2.cvtColor(img, cv2.COLOR_BGR2RGB)\n",
    "        encoding = face_recognition.face_encodings(img)[0]\n",
    "        encodelst.append(encoding)\n",
    "    return encodelst\n",
    "\n",
    "\n",
    "encodeTest = findencodings(imagess)\n",
    "print(\"encoding complete\")"
   ]
  },
  {
   "cell_type": "code",
   "execution_count": 11,
   "id": "61a95e3f",
   "metadata": {},
   "outputs": [],
   "source": [
    "img=cv2.imread('images/chris.jpg')"
   ]
  },
  {
   "cell_type": "code",
   "execution_count": 12,
   "id": "df3b4caa",
   "metadata": {},
   "outputs": [
    {
     "name": "stdout",
     "output_type": "stream",
     "text": [
      "CHRIS\n"
     ]
    }
   ],
   "source": [
    "faces = face_recognition.face_locations(img)\n",
    "encodingcurrent = face_recognition.face_encodings(img,faces)\n",
    "\n",
    "for encdfaces , faceloc in zip(encodingcurrent, faces):\n",
    "        matches = face_recognition.compare_faces(encodeTest, encdfaces)\n",
    "        faceDist = face_recognition.face_distance(encodeTest, encdfaces)\n",
    "        matchindex = np.argmin(faceDist)\n",
    "\n",
    "        if matches[matchindex]:\n",
    "            name = names[matchindex].upper()\n",
    "            print(name)\n",
    "            face_loc1 = face_recognition.face_locations(img)[0]\n",
    "            cv2.rectangle(img,(face_loc1[3], face_loc1[0]), (face_loc1[1], face_loc1[2]), (250, 170, 190), 2)\n",
    "            cv2.putText(img,name, (face_loc1[3]-6,face_loc1[0]-6), cv2.FONT_HERSHEY_COMPLEX, 1, (255, 255, 255), 2)\n",
    "cv2.imshow(\"webcam\",img)\n",
    "cv2.waitKey(0)\n",
    "cv2.destroyAllWindows()"
   ]
  },
  {
   "cell_type": "code",
   "execution_count": null,
   "id": "0ea6a856",
   "metadata": {},
   "outputs": [],
   "source": []
  }
 ],
 "metadata": {
  "kernelspec": {
   "display_name": "Python 3",
   "language": "python",
   "name": "python3"
  },
  "language_info": {
   "codemirror_mode": {
    "name": "ipython",
    "version": 3
   },
   "file_extension": ".py",
   "mimetype": "text/x-python",
   "name": "python",
   "nbconvert_exporter": "python",
   "pygments_lexer": "ipython3",
   "version": "3.9.5"
  }
 },
 "nbformat": 4,
 "nbformat_minor": 5
}
