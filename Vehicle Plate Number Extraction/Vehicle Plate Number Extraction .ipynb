{
 "cells": [
  {
   "cell_type": "code",
   "execution_count": 1,
   "id": "f9ad3ee2",
   "metadata": {},
   "outputs": [],
   "source": [
    "import cv2\n",
    "import numpy as np\n",
    "import imutils\n",
    "from matplotlib import pyplot as plt"
   ]
  },
  {
   "cell_type": "code",
   "execution_count": 17,
   "id": "fe67c88f",
   "metadata": {},
   "outputs": [
    {
     "data": {
      "text/plain": [
       "-1"
      ]
     },
     "execution_count": 17,
     "metadata": {},
     "output_type": "execute_result"
    }
   ],
   "source": [
    "img=cv2.imread('car2.jpg')\n",
    "cv2.imshow('car',img)\n",
    "gray=cv2.cvtColor(img,cv2.COLOR_BGR2GRAY)\n",
    "cv2.imshow('gray',gray)\n",
    "cv2.waitKey(0)"
   ]
  },
  {
   "cell_type": "markdown",
   "id": "50fc1b15",
   "metadata": {},
   "source": [
    "Bluring : Bilateral"
   ]
  },
  {
   "cell_type": "code",
   "execution_count": 18,
   "id": "567f31c8",
   "metadata": {},
   "outputs": [
    {
     "data": {
      "text/plain": [
       "-1"
      ]
     },
     "execution_count": 18,
     "metadata": {},
     "output_type": "execute_result"
    }
   ],
   "source": [
    "bilater = cv2.bilateralFilter(gray, 15, 17, 17) \n",
    "edge = cv2.Canny(bilater, 30, 200) \n",
    "cv2.imshow('Edge',edge)\n",
    "cv2.waitKey(0)"
   ]
  },
  {
   "cell_type": "code",
   "execution_count": 19,
   "id": "92d5cfab",
   "metadata": {},
   "outputs": [],
   "source": [
    "keypoints = cv2.findContours(edge.copy(), cv2.RETR_TREE, cv2.CHAIN_APPROX_SIMPLE)\n"
   ]
  },
  {
   "cell_type": "code",
   "execution_count": 20,
   "id": "81b69165",
   "metadata": {},
   "outputs": [],
   "source": [
    "cnts = imutils.grab_contours(keypoints)"
   ]
  },
  {
   "cell_type": "code",
   "execution_count": 21,
   "id": "bc64a7b6",
   "metadata": {},
   "outputs": [],
   "source": [
    "cnts = sorted(cnts, key=cv2.contourArea, reverse=True)[:10]\n"
   ]
  },
  {
   "cell_type": "code",
   "execution_count": 22,
   "id": "8926fca0",
   "metadata": {},
   "outputs": [],
   "source": [
    "#https://docs.opencv.org/4.5.2/d3/dc0/group__imgproc__shape.html\n",
    "location = None\n",
    "for contour in cnts:\n",
    "    approx = cv2.approxPolyDP(contour, 10, True)\n",
    "    if len(approx) == 4:\n",
    "        location = approx\n",
    "        break"
   ]
  },
  {
   "cell_type": "code",
   "execution_count": 23,
   "id": "6f1be3d4",
   "metadata": {},
   "outputs": [
    {
     "data": {
      "text/plain": [
       "array([[[164, 244]],\n",
       "\n",
       "       [[164, 284]],\n",
       "\n",
       "       [[329, 282]],\n",
       "\n",
       "       [[326, 243]]], dtype=int32)"
      ]
     },
     "execution_count": 23,
     "metadata": {},
     "output_type": "execute_result"
    }
   ],
   "source": [
    "location"
   ]
  },
  {
   "cell_type": "code",
   "execution_count": 24,
   "id": "b6438537",
   "metadata": {},
   "outputs": [],
   "source": [
    "mask = np.zeros(gray.shape, np.uint8)\n",
    "new_img = cv2.drawContours(mask, [location], 0,255, -1)\n",
    "new_img = cv2.bitwise_and(img, img, mask=mask)"
   ]
  },
  {
   "cell_type": "code",
   "execution_count": 26,
   "id": "f2545bc0",
   "metadata": {},
   "outputs": [
    {
     "data": {
      "text/plain": [
       "-1"
      ]
     },
     "execution_count": 26,
     "metadata": {},
     "output_type": "execute_result"
    }
   ],
   "source": [
    "cv2.imshow('Edge',new_img)\n",
    "cv2.waitKey(0)"
   ]
  },
  {
   "cell_type": "code",
   "execution_count": null,
   "id": "8e1c787b",
   "metadata": {},
   "outputs": [],
   "source": []
  }
 ],
 "metadata": {
  "kernelspec": {
   "display_name": "Python 3",
   "language": "python",
   "name": "python3"
  },
  "language_info": {
   "codemirror_mode": {
    "name": "ipython",
    "version": 3
   },
   "file_extension": ".py",
   "mimetype": "text/x-python",
   "name": "python",
   "nbconvert_exporter": "python",
   "pygments_lexer": "ipython3",
   "version": "3.9.5"
  }
 },
 "nbformat": 4,
 "nbformat_minor": 5
}
